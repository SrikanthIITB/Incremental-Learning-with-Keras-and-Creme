{
  "nbformat": 4,
  "nbformat_minor": 0,
  "metadata": {
    "colab": {
      "name": "Incremental_Learning.ipynb",
      "provenance": [],
      "collapsed_sections": []
    },
    "kernelspec": {
      "name": "python3",
      "display_name": "Python 3"
    }
  },
  "cells": [
    {
      "cell_type": "code",
      "metadata": {
        "id": "2xw6veYWvU8G",
        "colab_type": "code",
        "colab": {
          "base_uri": "https://localhost:8080/",
          "height": 815
        },
        "outputId": "98892e08-8c98-4215-fc57-08debc2d556e"
      },
      "source": [
        "# import the necessary packages\n",
        "from creme.linear_model import LogisticRegression\n",
        "from creme.multiclass import OneVsRestClassifier\n",
        "from creme.preprocessing import StandardScaler\n",
        "from creme.compose import Pipeline\n",
        "from creme.metrics import Accuracy\n",
        "from creme import stream\n",
        "import argparse\n",
        "\n",
        "'''ap = argparse.ArgumentParser()\n",
        "ap.add_argument(\"-c\", \"--csv\", required=True,\n",
        "\thelp=\"path to features CSV file\")\n",
        "ap.add_argument(\"-n\", \"--cols\", type=int, required=True,\n",
        "\thelp=\"# of feature columns in the CSV file (excluding class column\")\n",
        "args = vars(ap.parse_args())'''\n",
        "\n",
        "# columns in the CSV file to built-in data types\n",
        "print(\"[INFO] building column names...\")\n",
        "types = {\"feat_{}\".format(i): float for i in range(0, args[\"cols\"])}\n",
        "types[\"class\"] = int\n",
        "\n",
        "# create a CSV data generator for the extracted Keras features\n",
        "dataset = stream.iter_csv(args[\"csv\"], target=\"class\", converters=types)\n",
        "\n",
        "# construct our pipeline\n",
        "model = Pipeline(\n",
        "\t(\"scale\", StandardScaler()),\n",
        "\t(\"learn\", OneVsRestClassifier(classifier=LogisticRegression()))\n",
        ")\n",
        "\n",
        "print(\"[INFO] starting training...\")\n",
        "metric = Accuracy()\n",
        "\n",
        "# loop over the dataset\n",
        "for (i, (X, y)) in enumerate(dataset):\n",
        "\tpreds = model.predict_one(X)\n",
        "\tmodel = model.fit_one(X, y)\n",
        "\tmetric = metric.update(y, preds)\n",
        "\tprint(\"[INFO] update {} - {}\".format(i, metric))\n",
        "\n",
        "# show the accuracy of the model\n",
        "print(\"[INFO] final - {}\".format(metric))"
      ],
      "execution_count": 1,
      "outputs": [
        {
          "output_type": "stream",
          "text": [
            "[INFO] building column names...\n",
            "[INFO] starting training...\n",
            "[INFO] update 0 - Accuracy: 0.00%\n",
            "[INFO] update 1 - Accuracy: 0.00%\n",
            "[INFO] update 2 - Accuracy: 33.33%\n",
            "[INFO] update 3 - Accuracy: 50.00%\n",
            "[INFO] update 4 - Accuracy: 60.00%\n",
            "[INFO] update 5 - Accuracy: 66.67%\n",
            "[INFO] update 6 - Accuracy: 71.43%\n",
            "[INFO] update 7 - Accuracy: 62.50%\n",
            "[INFO] update 8 - Accuracy: 66.67%\n",
            "[INFO] update 9 - Accuracy: 70.00%\n",
            "[INFO] update 10 - Accuracy: 72.73%\n",
            "[INFO] update 11 - Accuracy: 75.00%\n",
            "[INFO] update 12 - Accuracy: 76.92%\n",
            "[INFO] update 13 - Accuracy: 78.57%\n",
            "[INFO] update 14 - Accuracy: 73.33%\n",
            "[INFO] update 15 - Accuracy: 75.00%\n",
            "[INFO] update 16 - Accuracy: 76.47%\n",
            "[INFO] update 17 - Accuracy: 77.78%\n",
            "[INFO] update 18 - Accuracy: 78.95%\n",
            "[INFO] update 19 - Accuracy: 80.00%\n",
            "[INFO] update 20 - Accuracy: 80.95%\n",
            "[INFO] update 21 - Accuracy: 81.82%\n",
            "...\n",
            "[INFO] update 24980 - Accuracy: 97.61%\n",
            "[INFO] update 24981 - Accuracy: 97.61%\n",
            "[INFO] update 24982 - Accuracy: 97.61%\n",
            "[INFO] update 24983 - Accuracy: 97.61%\n",
            "[INFO] update 24984 - Accuracy: 97.61%\n",
            "[INFO] update 24985 - Accuracy: 97.61%\n",
            "[INFO] update 24986 - Accuracy: 97.61%\n",
            "[INFO] update 24987 - Accuracy: 97.61%\n",
            "[INFO] update 24988 - Accuracy: 97.61%\n",
            "[INFO] update 24989 - Accuracy: 97.61%\n",
            "[INFO] update 24990 - Accuracy: 97.61%\n",
            "[INFO] update 24991 - Accuracy: 97.60%\n",
            "[INFO] update 24992 - Accuracy: 97.60%\n",
            "[INFO] update 24993 - Accuracy: 97.60%\n",
            "[INFO] update 24994 - Accuracy: 97.60%\n",
            "[INFO] update 24995 - Accuracy: 97.60%\n",
            "[INFO] update 24996 - Accuracy: 97.60%\n",
            "[INFO] update 24997 - Accuracy: 97.60%\n",
            "[INFO] update 24998 - Accuracy: 97.60%\n",
            "[INFO] update 24999 - Accuracy: 97.60%\n",
            "[INFO] final - Accuracy: 97.60%\n"
          ],
          "name": "stdout"
        }
      ]
    }
  ]
}